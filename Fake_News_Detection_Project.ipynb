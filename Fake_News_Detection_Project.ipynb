{
 "cells": [
  {
   "cell_type": "markdown",
   "metadata": {},
   "source": [
    "# Fake News Classification using Multinomial and Gaussian Naive Bayes Classifiers\n",
    "\n"
   ]
  },
  {
   "cell_type": "markdown",
   "metadata": {},
   "source": [
    "![alt text](arloo170800353.jpg \"Title\")\n",
    "\n",
    "\n",
    "[link] (https://images.assetsdelivery.com/compings_v2/arloo/arloo1708/arloo170800353.jpg)"
   ]
  },
  {
   "cell_type": "markdown",
   "metadata": {},
   "source": [
    "**This project is based on Classification of Fake News using Multionomial and Gaussian Naive Bayes Classifiers.** \n",
    "The dataset used consists of 2 files - one for Training and the other for Testing.  \n",
    "In the cell below, we have imported all the necessary libraries/modules required in our code. \n",
    "\n",
    "The libraries are - \n",
    "\n",
    "1) pandas - Used for data manipulation and data analysis \n",
    "\n",
    "2) seaborn - used for data visualization \n",
    "\n",
    "3) sklearn - it is a software machine learning library that contains all the Machine Learning Algorithms and various parameter metrics \n",
    "\n"
   ]
  },
  {
   "cell_type": "code",
   "execution_count": 1,
   "metadata": {},
   "outputs": [],
   "source": [
    "import pandas as pd\n",
    "import seaborn as sns\n",
    "import matplotlib.pyplot as plt\n",
    "from sklearn.feature_extraction.text import CountVectorizer, TfidfVectorizer\n",
    "from sklearn.naive_bayes import MultinomialNB, GaussianNB\n",
    "from sklearn import metrics\n",
    "from sklearn.utils import shuffle\n",
    "from sklearn.metrics import classification_report\n"
   ]
  },
  {
   "cell_type": "markdown",
   "metadata": {},
   "source": [
    "#### Reading data from local directory \n",
    "The train and test files in the dataset where in .tsv (Tab Separated Values) format. So, I first read the files and then converted them to .csv (Comma Separated Values) format. After converting them to .csv, I read it into the code. "
   ]
  },
  {
   "cell_type": "code",
   "execution_count": 2,
   "metadata": {},
   "outputs": [],
   "source": [
    "train_tsv = pd.read_table(r\"C:\\Users\\HP\\Desktop\\Windsor Winter Term\\Information Retrieval Systems\\Fake News Detection dataset\\train_file.tsv\", sep = '\\t')"
   ]
  },
  {
   "cell_type": "code",
   "execution_count": 3,
   "metadata": {},
   "outputs": [],
   "source": [
    "train_tsv.to_csv('train_file.csv', index=True)"
   ]
  },
  {
   "cell_type": "code",
   "execution_count": 4,
   "metadata": {},
   "outputs": [],
   "source": [
    "train_data = pd.read_csv('train_file.csv')"
   ]
  },
  {
   "cell_type": "markdown",
   "metadata": {},
   "source": [
    "#### Description of dataset -\n",
    "The dataset has 2 files namely - *train_file and test_file.* Both the files have columns with index, truthiness of news (classified into six categories - true, false, half-true, mostly-true, barely-true, pants-fire). For my project, I kept the data classified as **true and false** only! Thus, making it a **Binary Classification Project**"
   ]
  },
  {
   "cell_type": "code",
   "execution_count": 5,
   "metadata": {
    "scrolled": true
   },
   "outputs": [
    {
     "data": {
      "text/html": [
       "<div>\n",
       "<style scoped>\n",
       "    .dataframe tbody tr th:only-of-type {\n",
       "        vertical-align: middle;\n",
       "    }\n",
       "\n",
       "    .dataframe tbody tr th {\n",
       "        vertical-align: top;\n",
       "    }\n",
       "\n",
       "    .dataframe thead th {\n",
       "        text-align: right;\n",
       "    }\n",
       "</style>\n",
       "<table border=\"1\" class=\"dataframe\">\n",
       "  <thead>\n",
       "    <tr style=\"text-align: right;\">\n",
       "      <th></th>\n",
       "      <th>Unnamed: 0</th>\n",
       "      <th>0</th>\n",
       "      <th>2635.json</th>\n",
       "      <th>false</th>\n",
       "      <th>Says the Annies List political group supports third-trimester abortions on demand.</th>\n",
       "      <th>abortion</th>\n",
       "      <th>dwayne-bohac</th>\n",
       "      <th>State representative</th>\n",
       "      <th>Texas</th>\n",
       "      <th>republican</th>\n",
       "      <th>0.0</th>\n",
       "      <th>1.0</th>\n",
       "      <th>0.0.1</th>\n",
       "      <th>0.0.2</th>\n",
       "      <th>0.0.3</th>\n",
       "      <th>a mailer</th>\n",
       "      <th>That's a premise that he fails to back up. Annie's List makes no bones about being comfortable with candidates who oppose further restrictions on late-term abortions. Then again, this year its backing two House candidates who voted for more limits.</th>\n",
       "    </tr>\n",
       "  </thead>\n",
       "  <tbody>\n",
       "    <tr>\n",
       "      <th>0</th>\n",
       "      <td>0</td>\n",
       "      <td>1</td>\n",
       "      <td>10540.json</td>\n",
       "      <td>half-true</td>\n",
       "      <td>When did the decline of coal start? It started...</td>\n",
       "      <td>energy,history,job-accomplishments</td>\n",
       "      <td>scott-surovell</td>\n",
       "      <td>State delegate</td>\n",
       "      <td>Virginia</td>\n",
       "      <td>democrat</td>\n",
       "      <td>0.0</td>\n",
       "      <td>0.0</td>\n",
       "      <td>1.0</td>\n",
       "      <td>1.0</td>\n",
       "      <td>0.0</td>\n",
       "      <td>a floor speech.</td>\n",
       "      <td>Surovell said the decline of coal \"started whe...</td>\n",
       "    </tr>\n",
       "    <tr>\n",
       "      <th>1</th>\n",
       "      <td>1</td>\n",
       "      <td>2</td>\n",
       "      <td>324.json</td>\n",
       "      <td>mostly-true</td>\n",
       "      <td>Hillary Clinton agrees with John McCain \"by vo...</td>\n",
       "      <td>foreign-policy</td>\n",
       "      <td>barack-obama</td>\n",
       "      <td>President</td>\n",
       "      <td>Illinois</td>\n",
       "      <td>democrat</td>\n",
       "      <td>70.0</td>\n",
       "      <td>71.0</td>\n",
       "      <td>160.0</td>\n",
       "      <td>163.0</td>\n",
       "      <td>9.0</td>\n",
       "      <td>Denver</td>\n",
       "      <td>Obama said he would have voted against the ame...</td>\n",
       "    </tr>\n",
       "    <tr>\n",
       "      <th>2</th>\n",
       "      <td>2</td>\n",
       "      <td>3</td>\n",
       "      <td>1123.json</td>\n",
       "      <td>false</td>\n",
       "      <td>Health care reform legislation is likely to ma...</td>\n",
       "      <td>health-care</td>\n",
       "      <td>blog-posting</td>\n",
       "      <td>NaN</td>\n",
       "      <td>NaN</td>\n",
       "      <td>none</td>\n",
       "      <td>7.0</td>\n",
       "      <td>19.0</td>\n",
       "      <td>3.0</td>\n",
       "      <td>5.0</td>\n",
       "      <td>44.0</td>\n",
       "      <td>a news release</td>\n",
       "      <td>The release may have a point that Mikulskis co...</td>\n",
       "    </tr>\n",
       "    <tr>\n",
       "      <th>3</th>\n",
       "      <td>3</td>\n",
       "      <td>4</td>\n",
       "      <td>9028.json</td>\n",
       "      <td>half-true</td>\n",
       "      <td>The economic turnaround started at the end of ...</td>\n",
       "      <td>economy,jobs</td>\n",
       "      <td>charlie-crist</td>\n",
       "      <td>NaN</td>\n",
       "      <td>Florida</td>\n",
       "      <td>democrat</td>\n",
       "      <td>15.0</td>\n",
       "      <td>9.0</td>\n",
       "      <td>20.0</td>\n",
       "      <td>19.0</td>\n",
       "      <td>2.0</td>\n",
       "      <td>an interview on CNN</td>\n",
       "      <td>Crist said that the economic \"turnaround start...</td>\n",
       "    </tr>\n",
       "    <tr>\n",
       "      <th>4</th>\n",
       "      <td>4</td>\n",
       "      <td>5</td>\n",
       "      <td>12465.json</td>\n",
       "      <td>true</td>\n",
       "      <td>The Chicago Bears have had more starting quart...</td>\n",
       "      <td>education</td>\n",
       "      <td>robin-vos</td>\n",
       "      <td>Wisconsin Assembly speaker</td>\n",
       "      <td>Wisconsin</td>\n",
       "      <td>republican</td>\n",
       "      <td>0.0</td>\n",
       "      <td>3.0</td>\n",
       "      <td>2.0</td>\n",
       "      <td>5.0</td>\n",
       "      <td>1.0</td>\n",
       "      <td>a an online opinion-piece</td>\n",
       "      <td>But Vos specifically used the word \"fired,\" wh...</td>\n",
       "    </tr>\n",
       "  </tbody>\n",
       "</table>\n",
       "</div>"
      ],
      "text/plain": [
       "   Unnamed: 0  0   2635.json        false  \\\n",
       "0           0  1  10540.json    half-true   \n",
       "1           1  2    324.json  mostly-true   \n",
       "2           2  3   1123.json        false   \n",
       "3           3  4   9028.json    half-true   \n",
       "4           4  5  12465.json         true   \n",
       "\n",
       "  Says the Annies List political group supports third-trimester abortions on demand.  \\\n",
       "0  When did the decline of coal start? It started...                                   \n",
       "1  Hillary Clinton agrees with John McCain \"by vo...                                   \n",
       "2  Health care reform legislation is likely to ma...                                   \n",
       "3  The economic turnaround started at the end of ...                                   \n",
       "4  The Chicago Bears have had more starting quart...                                   \n",
       "\n",
       "                             abortion    dwayne-bohac  \\\n",
       "0  energy,history,job-accomplishments  scott-surovell   \n",
       "1                      foreign-policy    barack-obama   \n",
       "2                         health-care    blog-posting   \n",
       "3                        economy,jobs   charlie-crist   \n",
       "4                           education       robin-vos   \n",
       "\n",
       "         State representative      Texas  republican   0.0   1.0  0.0.1  \\\n",
       "0              State delegate   Virginia    democrat   0.0   0.0    1.0   \n",
       "1                   President   Illinois    democrat  70.0  71.0  160.0   \n",
       "2                         NaN        NaN        none   7.0  19.0    3.0   \n",
       "3                         NaN    Florida    democrat  15.0   9.0   20.0   \n",
       "4  Wisconsin Assembly speaker  Wisconsin  republican   0.0   3.0    2.0   \n",
       "\n",
       "   0.0.2  0.0.3                   a mailer  \\\n",
       "0    1.0    0.0            a floor speech.   \n",
       "1  163.0    9.0                     Denver   \n",
       "2    5.0   44.0             a news release   \n",
       "3   19.0    2.0        an interview on CNN   \n",
       "4    5.0    1.0  a an online opinion-piece   \n",
       "\n",
       "  That's a premise that he fails to back up. Annie's List makes no bones about being comfortable with candidates who oppose further restrictions on late-term abortions. Then again, this year its backing two House candidates who voted for more limits.  \n",
       "0  Surovell said the decline of coal \"started whe...                                                                                                                                                                                                        \n",
       "1  Obama said he would have voted against the ame...                                                                                                                                                                                                        \n",
       "2  The release may have a point that Mikulskis co...                                                                                                                                                                                                        \n",
       "3  Crist said that the economic \"turnaround start...                                                                                                                                                                                                        \n",
       "4  But Vos specifically used the word \"fired,\" wh...                                                                                                                                                                                                        "
      ]
     },
     "execution_count": 5,
     "metadata": {},
     "output_type": "execute_result"
    }
   ],
   "source": [
    "train_data.head()"
   ]
  },
  {
   "cell_type": "markdown",
   "metadata": {},
   "source": [
    "In the code below, I have created a dictionary assigning column names as keys and values as the first row in the data "
   ]
  },
  {
   "cell_type": "code",
   "execution_count": 6,
   "metadata": {},
   "outputs": [],
   "source": [
    "train_dict = {'News_ID' : train_data['0'],\n",
    "              'statement_to_train' : train_data['Says the Annies List political group supports third-trimester abortions on demand.'],\n",
    "             'Explanation' :train_data[\"That's a premise that he fails to back up. Annie's List makes no bones about being comfortable with candidates who oppose further restrictions on late-term abortions. Then again, this year its backing two House candidates who voted for more limits.\"],\n",
    "             'train_label' : train_data['false']}"
   ]
  },
  {
   "cell_type": "markdown",
   "metadata": {},
   "source": [
    "#### Transformation to a data frame \n",
    "The dictionary is converted to a data frame and the total number of values for all the columns are displayed using __.count__ function in pandas."
   ]
  },
  {
   "cell_type": "code",
   "execution_count": 7,
   "metadata": {},
   "outputs": [],
   "source": [
    "train_df = pd.DataFrame(train_dict)"
   ]
  },
  {
   "cell_type": "code",
   "execution_count": 8,
   "metadata": {},
   "outputs": [
    {
     "data": {
      "text/plain": [
       "News_ID               10239\n",
       "statement_to_train    10239\n",
       "Explanation           10155\n",
       "train_label           10239\n",
       "dtype: int64"
      ]
     },
     "execution_count": 8,
     "metadata": {},
     "output_type": "execute_result"
    }
   ],
   "source": [
    "train_df.count()"
   ]
  },
  {
   "cell_type": "code",
   "execution_count": 9,
   "metadata": {},
   "outputs": [],
   "source": [
    "#print(train_df.train_label)"
   ]
  },
  {
   "cell_type": "markdown",
   "metadata": {},
   "source": [
    "##### Keeping the values classified as True and False only. "
   ]
  },
  {
   "cell_type": "code",
   "execution_count": 10,
   "metadata": {},
   "outputs": [],
   "source": [
    "true_label = train_df.loc[train_df['train_label'] == 'true']\n",
    "false_label = train_df.loc[train_df['train_label'] == 'false']"
   ]
  },
  {
   "cell_type": "code",
   "execution_count": 11,
   "metadata": {},
   "outputs": [
    {
     "name": "stdout",
     "output_type": "stream",
     "text": [
      "News_ID               1676\n",
      "statement_to_train    1676\n",
      "Explanation           1664\n",
      "train_label           1676\n",
      "dtype: int64\n"
     ]
    }
   ],
   "source": [
    "print(true_label.count())"
   ]
  },
  {
   "cell_type": "code",
   "execution_count": 12,
   "metadata": {},
   "outputs": [
    {
     "name": "stdout",
     "output_type": "stream",
     "text": [
      "News_ID               1994\n",
      "statement_to_train    1994\n",
      "Explanation           1975\n",
      "train_label           1994\n",
      "dtype: int64\n"
     ]
    }
   ],
   "source": [
    "print(false_label.count())"
   ]
  },
  {
   "cell_type": "code",
   "execution_count": 13,
   "metadata": {},
   "outputs": [],
   "source": [
    "#false_label.head()"
   ]
  },
  {
   "cell_type": "code",
   "execution_count": 14,
   "metadata": {},
   "outputs": [],
   "source": [
    "#true_label.tail()"
   ]
  },
  {
   "cell_type": "markdown",
   "metadata": {},
   "source": [
    "##### Joining the true and false classified rows together horizontally using **.concat** function in python. "
   ]
  },
  {
   "cell_type": "code",
   "execution_count": 15,
   "metadata": {},
   "outputs": [],
   "source": [
    "full_train_data = pd.concat([true_label, false_label], axis=0)"
   ]
  },
  {
   "cell_type": "code",
   "execution_count": 16,
   "metadata": {},
   "outputs": [
    {
     "data": {
      "text/plain": [
       "Index(['News_ID', 'statement_to_train', 'Explanation', 'train_label'], dtype='object')"
      ]
     },
     "execution_count": 16,
     "metadata": {},
     "output_type": "execute_result"
    }
   ],
   "source": [
    "full_train_data.columns"
   ]
  },
  {
   "cell_type": "markdown",
   "metadata": {},
   "source": [
    "##### Shuffling the data is required to ensure that each data point contributes independently to the learning process, without being influenced by their successors. "
   ]
  },
  {
   "cell_type": "code",
   "execution_count": 17,
   "metadata": {},
   "outputs": [],
   "source": [
    "full_train_data = shuffle(full_train_data)"
   ]
  },
  {
   "cell_type": "markdown",
   "metadata": {},
   "source": [
    "### All the operations performed above are also performed on the Testing file below !"
   ]
  },
  {
   "cell_type": "code",
   "execution_count": 18,
   "metadata": {},
   "outputs": [],
   "source": [
    "test_tsv = pd.read_table(r\"C:\\Users\\HP\\Desktop\\Windsor Winter Term\\Information Retrieval Systems\\Fake News Detection dataset\\test_file.tsv\", sep = '\\t')"
   ]
  },
  {
   "cell_type": "code",
   "execution_count": 19,
   "metadata": {},
   "outputs": [],
   "source": [
    "test_tsv.to_csv('test_file.csv', index=True)"
   ]
  },
  {
   "cell_type": "code",
   "execution_count": 20,
   "metadata": {},
   "outputs": [],
   "source": [
    "test_data = pd.read_csv('test_file.csv')"
   ]
  },
  {
   "cell_type": "code",
   "execution_count": 21,
   "metadata": {},
   "outputs": [
    {
     "data": {
      "text/html": [
       "<div>\n",
       "<style scoped>\n",
       "    .dataframe tbody tr th:only-of-type {\n",
       "        vertical-align: middle;\n",
       "    }\n",
       "\n",
       "    .dataframe tbody tr th {\n",
       "        vertical-align: top;\n",
       "    }\n",
       "\n",
       "    .dataframe thead th {\n",
       "        text-align: right;\n",
       "    }\n",
       "</style>\n",
       "<table border=\"1\" class=\"dataframe\">\n",
       "  <thead>\n",
       "    <tr style=\"text-align: right;\">\n",
       "      <th></th>\n",
       "      <th>Unnamed: 0</th>\n",
       "      <th>0</th>\n",
       "      <th>11972.json</th>\n",
       "      <th>true</th>\n",
       "      <th>Building a wall on the U.S.-Mexico border will take literally years.</th>\n",
       "      <th>immigration</th>\n",
       "      <th>rick-perry</th>\n",
       "      <th>Governor</th>\n",
       "      <th>Texas</th>\n",
       "      <th>republican</th>\n",
       "      <th>30</th>\n",
       "      <th>30.1</th>\n",
       "      <th>42</th>\n",
       "      <th>23</th>\n",
       "      <th>18</th>\n",
       "      <th>Radio interview</th>\n",
       "      <th>Meantime, engineering experts agree the wall would most likely take years to complete. Keep in mind, too, it took more than six years to build roughly 700 miles of fence and barriers along the roughly 2,000-mile U. S. -Mexico border.</th>\n",
       "    </tr>\n",
       "  </thead>\n",
       "  <tbody>\n",
       "    <tr>\n",
       "      <th>1261</th>\n",
       "      <td>1261</td>\n",
       "      <td>1262</td>\n",
       "      <td>7334.json</td>\n",
       "      <td>half-true</td>\n",
       "      <td>Says his budget provides the highest state fun...</td>\n",
       "      <td>education</td>\n",
       "      <td>rick-scott</td>\n",
       "      <td>Governor</td>\n",
       "      <td>Florida</td>\n",
       "      <td>republican</td>\n",
       "      <td>28</td>\n",
       "      <td>23</td>\n",
       "      <td>38</td>\n",
       "      <td>34</td>\n",
       "      <td>7</td>\n",
       "      <td>a news conference</td>\n",
       "      <td>LeMieux didn't compare Rubio and Obama on an i...</td>\n",
       "    </tr>\n",
       "    <tr>\n",
       "      <th>1262</th>\n",
       "      <td>1262</td>\n",
       "      <td>1263</td>\n",
       "      <td>9788.json</td>\n",
       "      <td>barely-true</td>\n",
       "      <td>Ive been here almost every day.</td>\n",
       "      <td>civil-rights,crime,criminal-justice</td>\n",
       "      <td>jay-nixon</td>\n",
       "      <td>Governor</td>\n",
       "      <td>Missouri</td>\n",
       "      <td>democrat</td>\n",
       "      <td>2</td>\n",
       "      <td>0</td>\n",
       "      <td>0</td>\n",
       "      <td>1</td>\n",
       "      <td>0</td>\n",
       "      <td>on ABC's \"This Week\"</td>\n",
       "      <td>After making his pledge, Obama said the budget...</td>\n",
       "    </tr>\n",
       "    <tr>\n",
       "      <th>1263</th>\n",
       "      <td>1263</td>\n",
       "      <td>1264</td>\n",
       "      <td>10710.json</td>\n",
       "      <td>barely-true</td>\n",
       "      <td>In the early 1980s, Sen. Edward Kennedy secret...</td>\n",
       "      <td>bipartisanship,congress,foreign-policy,history</td>\n",
       "      <td>mackubin-thomas-owens</td>\n",
       "      <td>senior fellow, Foreign Policy Research Institute</td>\n",
       "      <td>Rhode Island</td>\n",
       "      <td>columnist</td>\n",
       "      <td>1</td>\n",
       "      <td>0</td>\n",
       "      <td>0</td>\n",
       "      <td>0</td>\n",
       "      <td>0</td>\n",
       "      <td>a commentary in The Providence Journal</td>\n",
       "      <td>Former President Clinton said government got t...</td>\n",
       "    </tr>\n",
       "    <tr>\n",
       "      <th>1264</th>\n",
       "      <td>1264</td>\n",
       "      <td>1265</td>\n",
       "      <td>3186.json</td>\n",
       "      <td>barely-true</td>\n",
       "      <td>Says an EPA permit languished under Strickland...</td>\n",
       "      <td>environment,government-efficiency</td>\n",
       "      <td>john-kasich</td>\n",
       "      <td>Governor of Ohio as of Jan. 10, 2011</td>\n",
       "      <td>Ohio</td>\n",
       "      <td>republican</td>\n",
       "      <td>9</td>\n",
       "      <td>8</td>\n",
       "      <td>10</td>\n",
       "      <td>18</td>\n",
       "      <td>3</td>\n",
       "      <td>a news conference</td>\n",
       "      <td>Points of Light has a unique mission carved ou...</td>\n",
       "    </tr>\n",
       "    <tr>\n",
       "      <th>1265</th>\n",
       "      <td>1265</td>\n",
       "      <td>1266</td>\n",
       "      <td>6743.json</td>\n",
       "      <td>false</td>\n",
       "      <td>Says the governor is going around the state ta...</td>\n",
       "      <td>state-budget,state-finances,taxes</td>\n",
       "      <td>john-burzichelli</td>\n",
       "      <td>NaN</td>\n",
       "      <td>NaN</td>\n",
       "      <td>democrat</td>\n",
       "      <td>1</td>\n",
       "      <td>1</td>\n",
       "      <td>0</td>\n",
       "      <td>0</td>\n",
       "      <td>0</td>\n",
       "      <td>an interview with NJToday</td>\n",
       "      <td>In reality, the Affordable Care Act calls for ...</td>\n",
       "    </tr>\n",
       "  </tbody>\n",
       "</table>\n",
       "</div>"
      ],
      "text/plain": [
       "      Unnamed: 0     0  11972.json         true  \\\n",
       "1261        1261  1262   7334.json    half-true   \n",
       "1262        1262  1263   9788.json  barely-true   \n",
       "1263        1263  1264  10710.json  barely-true   \n",
       "1264        1264  1265   3186.json  barely-true   \n",
       "1265        1265  1266   6743.json        false   \n",
       "\n",
       "     Building a wall on the U.S.-Mexico border will take literally years.  \\\n",
       "1261  Says his budget provides the highest state fun...                     \n",
       "1262                    Ive been here almost every day.                     \n",
       "1263  In the early 1980s, Sen. Edward Kennedy secret...                     \n",
       "1264  Says an EPA permit languished under Strickland...                     \n",
       "1265  Says the governor is going around the state ta...                     \n",
       "\n",
       "                                         immigration             rick-perry  \\\n",
       "1261                                       education             rick-scott   \n",
       "1262             civil-rights,crime,criminal-justice              jay-nixon   \n",
       "1263  bipartisanship,congress,foreign-policy,history  mackubin-thomas-owens   \n",
       "1264               environment,government-efficiency            john-kasich   \n",
       "1265               state-budget,state-finances,taxes       john-burzichelli   \n",
       "\n",
       "                                              Governor         Texas  \\\n",
       "1261                                          Governor       Florida   \n",
       "1262                                          Governor      Missouri   \n",
       "1263  senior fellow, Foreign Policy Research Institute  Rhode Island   \n",
       "1264              Governor of Ohio as of Jan. 10, 2011          Ohio   \n",
       "1265                                               NaN           NaN   \n",
       "\n",
       "      republican  30  30.1  42  23  18  \\\n",
       "1261  republican  28    23  38  34   7   \n",
       "1262    democrat   2     0   0   1   0   \n",
       "1263   columnist   1     0   0   0   0   \n",
       "1264  republican   9     8  10  18   3   \n",
       "1265    democrat   1     1   0   0   0   \n",
       "\n",
       "                             Radio interview  \\\n",
       "1261                       a news conference   \n",
       "1262                    on ABC's \"This Week\"   \n",
       "1263  a commentary in The Providence Journal   \n",
       "1264                       a news conference   \n",
       "1265               an interview with NJToday   \n",
       "\n",
       "     Meantime, engineering experts agree the wall would most likely take years to complete. Keep in mind, too, it took more than six years to build roughly 700 miles of fence and barriers along the roughly 2,000-mile U. S. -Mexico border.  \n",
       "1261  LeMieux didn't compare Rubio and Obama on an i...                                                                                                                                                                                         \n",
       "1262  After making his pledge, Obama said the budget...                                                                                                                                                                                         \n",
       "1263  Former President Clinton said government got t...                                                                                                                                                                                         \n",
       "1264  Points of Light has a unique mission carved ou...                                                                                                                                                                                         \n",
       "1265  In reality, the Affordable Care Act calls for ...                                                                                                                                                                                         "
      ]
     },
     "execution_count": 21,
     "metadata": {},
     "output_type": "execute_result"
    }
   ],
   "source": [
    "test_data.tail()"
   ]
  },
  {
   "cell_type": "code",
   "execution_count": 22,
   "metadata": {},
   "outputs": [],
   "source": [
    "test_dict = {'News_ID' : test_data['0'],\n",
    "              'statement_to_test' : test_data['Building a wall on the U.S.-Mexico border will take literally years.'],\n",
    "             'Explanation' :test_data[\"Meantime, engineering experts agree the wall would most likely take years to complete. Keep in mind, too, it took more than six years to build roughly 700 miles of fence and barriers along the roughly 2,000-mile U. S. -Mexico border.\"],\n",
    "             'test_label' : test_data['true']}"
   ]
  },
  {
   "cell_type": "code",
   "execution_count": 23,
   "metadata": {},
   "outputs": [],
   "source": [
    "test_df = pd.DataFrame(test_dict)"
   ]
  },
  {
   "cell_type": "code",
   "execution_count": 24,
   "metadata": {},
   "outputs": [
    {
     "data": {
      "text/html": [
       "<div>\n",
       "<style scoped>\n",
       "    .dataframe tbody tr th:only-of-type {\n",
       "        vertical-align: middle;\n",
       "    }\n",
       "\n",
       "    .dataframe tbody tr th {\n",
       "        vertical-align: top;\n",
       "    }\n",
       "\n",
       "    .dataframe thead th {\n",
       "        text-align: right;\n",
       "    }\n",
       "</style>\n",
       "<table border=\"1\" class=\"dataframe\">\n",
       "  <thead>\n",
       "    <tr style=\"text-align: right;\">\n",
       "      <th></th>\n",
       "      <th>News_ID</th>\n",
       "      <th>statement_to_test</th>\n",
       "      <th>Explanation</th>\n",
       "      <th>test_label</th>\n",
       "    </tr>\n",
       "  </thead>\n",
       "  <tbody>\n",
       "    <tr>\n",
       "      <th>0</th>\n",
       "      <td>1</td>\n",
       "      <td>Wisconsin is on pace to double the number of l...</td>\n",
       "      <td>She cited layoff notices received by the state...</td>\n",
       "      <td>false</td>\n",
       "    </tr>\n",
       "    <tr>\n",
       "      <th>1</th>\n",
       "      <td>2</td>\n",
       "      <td>Says John McCain has done nothing to help the ...</td>\n",
       "      <td>Trump said that McCain \"has done nothing to he...</td>\n",
       "      <td>false</td>\n",
       "    </tr>\n",
       "    <tr>\n",
       "      <th>2</th>\n",
       "      <td>3</td>\n",
       "      <td>Suzanne Bonamici supports a plan that will cut...</td>\n",
       "      <td>But spending still goes up. In addition, many ...</td>\n",
       "      <td>half-true</td>\n",
       "    </tr>\n",
       "    <tr>\n",
       "      <th>3</th>\n",
       "      <td>4</td>\n",
       "      <td>When asked by a reporter whether hes at the ce...</td>\n",
       "      <td>Our rating A Democratic Party web video making...</td>\n",
       "      <td>pants-fire</td>\n",
       "    </tr>\n",
       "    <tr>\n",
       "      <th>4</th>\n",
       "      <td>5</td>\n",
       "      <td>Over the past five years the federal governmen...</td>\n",
       "      <td>Rhode Islands former top cop is setting his ba...</td>\n",
       "      <td>true</td>\n",
       "    </tr>\n",
       "  </tbody>\n",
       "</table>\n",
       "</div>"
      ],
      "text/plain": [
       "   News_ID                                  statement_to_test  \\\n",
       "0        1  Wisconsin is on pace to double the number of l...   \n",
       "1        2  Says John McCain has done nothing to help the ...   \n",
       "2        3  Suzanne Bonamici supports a plan that will cut...   \n",
       "3        4  When asked by a reporter whether hes at the ce...   \n",
       "4        5  Over the past five years the federal governmen...   \n",
       "\n",
       "                                         Explanation  test_label  \n",
       "0  She cited layoff notices received by the state...       false  \n",
       "1  Trump said that McCain \"has done nothing to he...       false  \n",
       "2  But spending still goes up. In addition, many ...   half-true  \n",
       "3  Our rating A Democratic Party web video making...  pants-fire  \n",
       "4  Rhode Islands former top cop is setting his ba...        true  "
      ]
     },
     "execution_count": 24,
     "metadata": {},
     "output_type": "execute_result"
    }
   ],
   "source": [
    "test_df.head()"
   ]
  },
  {
   "cell_type": "code",
   "execution_count": 25,
   "metadata": {},
   "outputs": [],
   "source": [
    "test_true_label = test_df.loc[test_df['test_label'] == 'true']\n",
    "test_false_label = test_df.loc[test_df['test_label'] == 'false']"
   ]
  },
  {
   "cell_type": "code",
   "execution_count": 26,
   "metadata": {},
   "outputs": [
    {
     "name": "stdout",
     "output_type": "stream",
     "text": [
      "News_ID              249\n",
      "statement_to_test    249\n",
      "Explanation          249\n",
      "test_label           249\n",
      "dtype: int64\n"
     ]
    }
   ],
   "source": [
    "false_count = test_false_label.count()\n",
    "print(false_count)"
   ]
  },
  {
   "cell_type": "code",
   "execution_count": 27,
   "metadata": {},
   "outputs": [
    {
     "name": "stdout",
     "output_type": "stream",
     "text": [
      "News_ID              207\n",
      "statement_to_test    207\n",
      "Explanation          205\n",
      "test_label           207\n",
      "dtype: int64\n"
     ]
    }
   ],
   "source": [
    "true_count = test_true_label.count()\n",
    "print(true_count)"
   ]
  },
  {
   "cell_type": "code",
   "execution_count": 28,
   "metadata": {},
   "outputs": [],
   "source": [
    "full_test_data = pd.concat([test_true_label, test_false_label], axis=0)\n"
   ]
  },
  {
   "cell_type": "code",
   "execution_count": 29,
   "metadata": {},
   "outputs": [],
   "source": [
    "full_test_data = shuffle(full_test_data)"
   ]
  },
  {
   "cell_type": "markdown",
   "metadata": {},
   "source": [
    "### CountVectorizer"
   ]
  },
  {
   "cell_type": "markdown",
   "metadata": {},
   "source": [
    "![CV](CV.svg \"image\")\n",
    "\n",
    "\n",
    "\n",
    "[link] (https://www.educative.io/api/edpresso/shot/5197621598617600/image/6596233398321152)"
   ]
  },
  {
   "cell_type": "code",
   "execution_count": 30,
   "metadata": {},
   "outputs": [],
   "source": [
    "vectorizer = CountVectorizer(stop_words = 'english')"
   ]
  },
  {
   "cell_type": "code",
   "execution_count": 31,
   "metadata": {},
   "outputs": [],
   "source": [
    "train_vector = vectorizer.fit_transform(full_train_data['statement_to_train'])"
   ]
  },
  {
   "cell_type": "code",
   "execution_count": 32,
   "metadata": {},
   "outputs": [],
   "source": [
    "test_vector = vectorizer.transform(full_test_data['statement_to_test'])"
   ]
  },
  {
   "cell_type": "code",
   "execution_count": 33,
   "metadata": {},
   "outputs": [
    {
     "name": "stdout",
     "output_type": "stream",
     "text": [
      "['3666', '37', '370', '376', '378', '38', '385', '38th', '39', '395']\n"
     ]
    }
   ],
   "source": [
    "print(vectorizer.get_feature_names()[200:210])"
   ]
  },
  {
   "cell_type": "markdown",
   "metadata": {},
   "source": [
    "### Tfidf Vectorizer"
   ]
  },
  {
   "cell_type": "markdown",
   "metadata": {},
   "source": [
    "![CV](tfidf.png \"image\")\n",
    "\n",
    "[link] (https://miro.medium.com/max/3604/1*qQgnyPLDIkUmeZKN2_ZWbQ.png)"
   ]
  },
  {
   "cell_type": "code",
   "execution_count": 84,
   "metadata": {},
   "outputs": [],
   "source": [
    "tfidf_vectorizer = TfidfVectorizer(stop_words = 'english', max_df = 0.7)\n",
    "#max_df - When building the vocabulary ignore terms that have a document\n",
    "#frequency strictly higher than the given threshold (corpus-specific stop words)\n",
    "#because higher the tf-idf score, rarer the term"
   ]
  },
  {
   "cell_type": "code",
   "execution_count": 35,
   "metadata": {},
   "outputs": [],
   "source": [
    "train_tfidf = tfidf_vectorizer.fit_transform(full_train_data['statement_to_train'])"
   ]
  },
  {
   "cell_type": "code",
   "execution_count": 36,
   "metadata": {},
   "outputs": [],
   "source": [
    "test_tfidf = tfidf_vectorizer.transform(full_test_data['statement_to_test'])"
   ]
  },
  {
   "cell_type": "code",
   "execution_count": 37,
   "metadata": {},
   "outputs": [
    {
     "name": "stdout",
     "output_type": "stream",
     "text": [
      "['000', '02', '033', '05', '054th', '07', '09', '095', '10', '100']\n"
     ]
    }
   ],
   "source": [
    "print(vectorizer.get_feature_names()[:10])"
   ]
  },
  {
   "cell_type": "code",
   "execution_count": 38,
   "metadata": {},
   "outputs": [
    {
     "data": {
      "text/plain": [
       "(3670, 7186)"
      ]
     },
     "execution_count": 38,
     "metadata": {},
     "output_type": "execute_result"
    }
   ],
   "source": [
    "train_tfidf.shape"
   ]
  },
  {
   "cell_type": "code",
   "execution_count": 39,
   "metadata": {
    "scrolled": true
   },
   "outputs": [
    {
     "name": "stdout",
     "output_type": "stream",
     "text": [
      "[[0. 0. 0. ... 0. 0. 0.]\n",
      " [0. 0. 0. ... 0. 0. 0.]\n",
      " [0. 0. 0. ... 0. 0. 0.]\n",
      " ...\n",
      " [0. 0. 0. ... 0. 0. 0.]\n",
      " [0. 0. 0. ... 0. 0. 0.]\n",
      " [0. 0. 0. ... 0. 0. 0.]]\n"
     ]
    }
   ],
   "source": [
    "print(train_tfidf.A[:20])"
   ]
  },
  {
   "cell_type": "code",
   "execution_count": 40,
   "metadata": {
    "scrolled": true
   },
   "outputs": [
    {
     "name": "stdout",
     "output_type": "stream",
     "text": [
      "[[0. 0. 0. ... 0. 0. 0.]\n",
      " [0. 0. 0. ... 0. 0. 0.]\n",
      " [0. 0. 0. ... 0. 0. 0.]\n",
      " ...\n",
      " [0. 0. 0. ... 0. 0. 0.]\n",
      " [0. 0. 0. ... 0. 0. 0.]\n",
      " [0. 0. 0. ... 0. 0. 0.]]\n"
     ]
    }
   ],
   "source": [
    "print(test_tfidf.A[:20])"
   ]
  },
  {
   "cell_type": "code",
   "execution_count": 41,
   "metadata": {},
   "outputs": [
    {
     "data": {
      "text/plain": [
       "(456, 7186)"
      ]
     },
     "execution_count": 41,
     "metadata": {},
     "output_type": "execute_result"
    }
   ],
   "source": [
    "test_tfidf.shape"
   ]
  },
  {
   "cell_type": "markdown",
   "metadata": {},
   "source": [
    "#### Getting the count of features names in Count Vectorizer and TFIDF Vectorizer and then finding the difference between them"
   ]
  },
  {
   "cell_type": "code",
   "execution_count": 42,
   "metadata": {},
   "outputs": [
    {
     "name": "stdout",
     "output_type": "stream",
     "text": [
      "   000  02  033  05  054th  07  09  095  10  100  ...  youve  yuri  zeldin  \\\n",
      "0    0   0    0   0      0   0   0    0   0    0  ...      0     0       0   \n",
      "1    0   0    0   0      0   0   0    0   0    0  ...      0     0       0   \n",
      "2    0   0    0   0      0   0   0    0   0    0  ...      0     0       0   \n",
      "3    0   0    0   0      0   0   0    0   0    0  ...      0     0       0   \n",
      "4    0   0    0   0      0   0   0    0   0    0  ...      0     0       0   \n",
      "\n",
      "   zephyr  zero  zika  zip  zombie  zombies  zones  \n",
      "0       0     0     0    0       0        0      0  \n",
      "1       0     0     0    0       0        0      0  \n",
      "2       0     0     0    0       0        0      0  \n",
      "3       0     0     0    0       0        0      0  \n",
      "4       0     0     0    0       0        0      0  \n",
      "\n",
      "[5 rows x 7186 columns]\n",
      "   000   02  033   05  054th   07   09  095   10  100  ...  youve  yuri  \\\n",
      "0  0.0  0.0  0.0  0.0    0.0  0.0  0.0  0.0  0.0  0.0  ...    0.0   0.0   \n",
      "1  0.0  0.0  0.0  0.0    0.0  0.0  0.0  0.0  0.0  0.0  ...    0.0   0.0   \n",
      "2  0.0  0.0  0.0  0.0    0.0  0.0  0.0  0.0  0.0  0.0  ...    0.0   0.0   \n",
      "3  0.0  0.0  0.0  0.0    0.0  0.0  0.0  0.0  0.0  0.0  ...    0.0   0.0   \n",
      "4  0.0  0.0  0.0  0.0    0.0  0.0  0.0  0.0  0.0  0.0  ...    0.0   0.0   \n",
      "\n",
      "   zeldin  zephyr  zero  zika  zip  zombie  zombies  zones  \n",
      "0     0.0     0.0   0.0   0.0  0.0     0.0      0.0    0.0  \n",
      "1     0.0     0.0   0.0   0.0  0.0     0.0      0.0    0.0  \n",
      "2     0.0     0.0   0.0   0.0  0.0     0.0      0.0    0.0  \n",
      "3     0.0     0.0   0.0   0.0  0.0     0.0      0.0    0.0  \n",
      "4     0.0     0.0   0.0   0.0  0.0     0.0      0.0    0.0  \n",
      "\n",
      "[5 rows x 7186 columns]\n"
     ]
    }
   ],
   "source": [
    "count_df = pd.DataFrame(train_vector.A, columns=vectorizer.get_feature_names())\n",
    "tfidf_df = pd.DataFrame(train_tfidf.A, columns=tfidf_vectorizer.get_feature_names())\n",
    "print(count_df.head())\n",
    "print(tfidf_df.head())\n"
   ]
  },
  {
   "cell_type": "code",
   "execution_count": 43,
   "metadata": {},
   "outputs": [
    {
     "name": "stdout",
     "output_type": "stream",
     "text": [
      "set()\n"
     ]
    }
   ],
   "source": [
    "difference = set(count_df.columns) - set(tfidf_df.columns)\n",
    "print(difference)\n"
   ]
  },
  {
   "cell_type": "code",
   "execution_count": 44,
   "metadata": {},
   "outputs": [
    {
     "name": "stdout",
     "output_type": "stream",
     "text": [
      "False\n"
     ]
    }
   ],
   "source": [
    "eq = count_df is tfidf_df\n",
    "print(eq)"
   ]
  },
  {
   "cell_type": "markdown",
   "metadata": {},
   "source": [
    "## Training our Machine Learning Models \n"
   ]
  },
  {
   "cell_type": "markdown",
   "metadata": {},
   "source": [
    "### I have implemented Naive Bayes Classification models namely Multinomial NB and Gaussian NB. \n",
    "\n",
    "- I have applied Multinomail NB to CountVectorizer and TfidfVectorizer separately and then comapred the results. \n",
    "- The same is done using Gaussian NB "
   ]
  },
  {
   "cell_type": "markdown",
   "metadata": {},
   "source": [
    "# Multinomial NB\n",
    "\n",
    "#### Multinomial naive Bayes assumes to have feature vector where each element represents the number of times it appears (or, very often, its frequency).\n"
   ]
  },
  {
   "cell_type": "markdown",
   "metadata": {},
   "source": [
    "__*Multinomial NB applied to CountVectorizer*__ "
   ]
  },
  {
   "cell_type": "code",
   "execution_count": 45,
   "metadata": {},
   "outputs": [
    {
     "data": {
      "text/plain": [
       "MultinomialNB()"
      ]
     },
     "execution_count": 45,
     "metadata": {},
     "output_type": "execute_result"
    }
   ],
   "source": [
    "mul_NB = MultinomialNB()\n",
    "\n",
    "mul_NB.fit(train_vector, full_train_data['train_label'])"
   ]
  },
  {
   "cell_type": "code",
   "execution_count": 46,
   "metadata": {},
   "outputs": [],
   "source": [
    "predictions = mul_NB.predict(test_vector)"
   ]
  },
  {
   "cell_type": "code",
   "execution_count": 47,
   "metadata": {},
   "outputs": [],
   "source": [
    "acc_score = metrics.accuracy_score(full_test_data['test_label'], predictions)\n",
    "acc_score = round(acc_score*100, 2)"
   ]
  },
  {
   "cell_type": "code",
   "execution_count": 48,
   "metadata": {},
   "outputs": [
    {
     "name": "stdout",
     "output_type": "stream",
     "text": [
      "Confusion Matrix is:\n",
      "[[117  90]\n",
      " [ 87 162]]\n"
     ]
    }
   ],
   "source": [
    "Mul_cm = metrics.confusion_matrix(full_test_data['test_label'], predictions, labels=['true', 'false'])\n",
    "print('Confusion Matrix is:')\n",
    "print(Mul_cm)"
   ]
  },
  {
   "cell_type": "code",
   "execution_count": 49,
   "metadata": {},
   "outputs": [
    {
     "name": "stdout",
     "output_type": "stream",
     "text": [
      "Accuracy of Fake News Classification using Multinomial Naive Bayes with count_vectorizer is: 61.18 %\n"
     ]
    }
   ],
   "source": [
    "print(\"Accuracy of Fake News Classification using Multinomial Naive Bayes with count_vectorizer is:\", acc_score, \"%\")"
   ]
  },
  {
   "cell_type": "code",
   "execution_count": 50,
   "metadata": {},
   "outputs": [
    {
     "name": "stdout",
     "output_type": "stream",
     "text": [
      "              precision    recall  f1-score   support\n",
      "\n",
      "       false       0.64      0.65      0.65       249\n",
      "        true       0.57      0.57      0.57       207\n",
      "\n",
      "    accuracy                           0.61       456\n",
      "   macro avg       0.61      0.61      0.61       456\n",
      "weighted avg       0.61      0.61      0.61       456\n",
      "\n"
     ]
    },
    {
     "data": {
      "image/png": "[encoded data removed]",
      "text/plain": [
       "<Figure size 360x360 with 2 Axes>"
      ]
     },
     "metadata": {
      "needs_background": "light"
     },
     "output_type": "display_data"
    }
   ],
   "source": [
    "Mul_cm = metrics.confusion_matrix(full_test_data['test_label'], predictions)\n",
    "plt.show()\n",
    "plt.figure(figsize=(5,5))\n",
    "sns.heatmap(Mul_cm);\n",
    "plt.ylabel('Actual label');\n",
    "plt.xlabel('Predicted label');\n",
    "plt.title('Confusion Matrix for MultinomialNB', size = 10);\n",
    "\n",
    "report = classification_report(full_test_data['test_label'], predictions)\n",
    "print(report)\n",
    "              "
   ]
  },
  {
   "cell_type": "markdown",
   "metadata": {},
   "source": [
    "__*Multinomial NB applied to tfidfVectorizer*__ "
   ]
  },
  {
   "cell_type": "code",
   "execution_count": 51,
   "metadata": {},
   "outputs": [
    {
     "data": {
      "text/plain": [
       "MultinomialNB()"
      ]
     },
     "execution_count": 51,
     "metadata": {},
     "output_type": "execute_result"
    }
   ],
   "source": [
    "mul_NB_2 = MultinomialNB()\n",
    "\n",
    "mul_NB_2.fit(train_tfidf, full_train_data['train_label'])"
   ]
  },
  {
   "cell_type": "code",
   "execution_count": 52,
   "metadata": {},
   "outputs": [],
   "source": [
    "predictions2 = mul_NB.predict(test_tfidf)"
   ]
  },
  {
   "cell_type": "code",
   "execution_count": 53,
   "metadata": {},
   "outputs": [],
   "source": [
    "acc_score2 = metrics.accuracy_score(full_test_data['test_label'], predictions2)\n",
    "acc_score2 = round(acc_score2 * 100, 2)"
   ]
  },
  {
   "cell_type": "code",
   "execution_count": 54,
   "metadata": {},
   "outputs": [
    {
     "name": "stdout",
     "output_type": "stream",
     "text": [
      "Confusion Matrix using Tfidf is:\n",
      "[[101 106]\n",
      " [ 81 168]]\n"
     ]
    }
   ],
   "source": [
    "Mul_cm_2 = metrics.confusion_matrix(full_test_data['test_label'], predictions2, labels=['true', 'false'])\n",
    "print('Confusion Matrix using Tfidf is:')\n",
    "print(Mul_cm_2)"
   ]
  },
  {
   "cell_type": "code",
   "execution_count": 55,
   "metadata": {},
   "outputs": [
    {
     "name": "stdout",
     "output_type": "stream",
     "text": [
      "Accuracy of Fake News Classification using Multinomial Naive Bayes with tfidf is: 58.99 %\n"
     ]
    }
   ],
   "source": [
    "print(\"Accuracy of Fake News Classification using Multinomial Naive Bayes with tfidf is:\", acc_score2, \"%\")"
   ]
  },
  {
   "cell_type": "markdown",
   "metadata": {},
   "source": [
    "# Gaussian NB\n",
    "\n",
    "#### The Gaussian Naive Bayes is based on a continuous distribution and it’s suitable for more generic classification tasks.\n",
    "\n",
    "\n",
    "\n",
    "![GNB](GNB.png \"image\")\n",
    "\n",
    "[link] (https://chrisalbon.com/images/machine_learning_flashcards/Gaussian_Naive_Bayes_Classifier_print.png)\n"
   ]
  },
  {
   "cell_type": "markdown",
   "metadata": {},
   "source": [
    "__*Gaussian NB applied to CountVectorizer*__ "
   ]
  },
  {
   "cell_type": "code",
   "execution_count": 57,
   "metadata": {},
   "outputs": [],
   "source": [
    "mul = GaussianNB()"
   ]
  },
  {
   "cell_type": "code",
   "execution_count": 58,
   "metadata": {},
   "outputs": [
    {
     "data": {
      "text/plain": [
       "GaussianNB()"
      ]
     },
     "execution_count": 58,
     "metadata": {},
     "output_type": "execute_result"
    }
   ],
   "source": [
    "mul.fit(train_vector.toarray(), full_train_data['train_label'])"
   ]
  },
  {
   "cell_type": "code",
   "execution_count": 59,
   "metadata": {},
   "outputs": [],
   "source": [
    "pred = mul.predict(test_vector.toarray())"
   ]
  },
  {
   "cell_type": "code",
   "execution_count": 60,
   "metadata": {},
   "outputs": [],
   "source": [
    "acc = metrics.accuracy_score(full_test_data['test_label'], pred)\n",
    "acc = round(acc* 100, 2)"
   ]
  },
  {
   "cell_type": "code",
   "execution_count": 61,
   "metadata": {},
   "outputs": [
    {
     "name": "stdout",
     "output_type": "stream",
     "text": [
      "Confusion Matrix using Gaussian NB is:\n",
      "[[150  57]\n",
      " [153  96]]\n"
     ]
    }
   ],
   "source": [
    "GNB_cm = metrics.confusion_matrix(full_test_data['test_label'], pred, labels=['true', 'false'])\n",
    "print('Confusion Matrix using Gaussian NB is:')\n",
    "print(GNB_cm)"
   ]
  },
  {
   "cell_type": "code",
   "execution_count": 62,
   "metadata": {},
   "outputs": [
    {
     "name": "stdout",
     "output_type": "stream",
     "text": [
      "Accuracy of Fake News Classification using Gaussain Naive Bayes is: 53.95 %\n"
     ]
    }
   ],
   "source": [
    "print(\"Accuracy of Fake News Classification using Gaussain Naive Bayes is:\", acc, \"%\")"
   ]
  },
  {
   "cell_type": "markdown",
   "metadata": {},
   "source": [
    "__*Gaussian NB applied to tfidfVectorizer*__ "
   ]
  },
  {
   "cell_type": "code",
   "execution_count": 63,
   "metadata": {},
   "outputs": [],
   "source": [
    "mul_1 = GaussianNB()"
   ]
  },
  {
   "cell_type": "code",
   "execution_count": 65,
   "metadata": {},
   "outputs": [
    {
     "data": {
      "text/plain": [
       "GaussianNB()"
      ]
     },
     "execution_count": 65,
     "metadata": {},
     "output_type": "execute_result"
    }
   ],
   "source": [
    "mul_1.fit(train_tfidf.toarray(), full_train_data['train_label'])"
   ]
  },
  {
   "cell_type": "code",
   "execution_count": 66,
   "metadata": {},
   "outputs": [],
   "source": [
    "pred_GNB = mul_1.predict(test_tfidf.toarray())"
   ]
  },
  {
   "cell_type": "code",
   "execution_count": 67,
   "metadata": {},
   "outputs": [],
   "source": [
    "accGNB = metrics.accuracy_score(full_test_data['test_label'], pred_GNB)\n",
    "accGNB = round(accGNB* 100, 2)"
   ]
  },
  {
   "cell_type": "code",
   "execution_count": 68,
   "metadata": {},
   "outputs": [
    {
     "name": "stdout",
     "output_type": "stream",
     "text": [
      "Confusion Matrix using Gaussian NB is:\n",
      "[[148  59]\n",
      " [148 101]]\n"
     ]
    }
   ],
   "source": [
    "GBcm = metrics.confusion_matrix(full_test_data['test_label'], pred_GNB, labels=['true', 'false'])\n",
    "print('Confusion Matrix using Gaussian NB is:')\n",
    "print(GBcm)"
   ]
  },
  {
   "cell_type": "code",
   "execution_count": 69,
   "metadata": {},
   "outputs": [
    {
     "name": "stdout",
     "output_type": "stream",
     "text": [
      "Accuracy of Fake News Classification using Gaussain Naive Bayes is: 54.61 %\n"
     ]
    }
   ],
   "source": [
    "print(\"Accuracy of Fake News Classification using Gaussain Naive Bayes is:\", accGNB, \"%\")"
   ]
  },
  {
   "cell_type": "code",
   "execution_count": 82,
   "metadata": {},
   "outputs": [
    {
     "data": {
      "image/png": "[encoded data removed]",
      "text/plain": [
       "<Figure size 360x360 with 2 Axes>"
      ]
     },
     "metadata": {
      "needs_background": "light"
     },
     "output_type": "display_data"
    }
   ],
   "source": [
    "GB_show = metrics.confusion_matrix(full_test_data['test_label'], pred_GNB)\n",
    "plt.show()\n",
    "plt.figure(figsize=(5,5))\n",
    "sns.heatmap(GBcm);\n",
    "plt.ylabel('Actual label');\n",
    "plt.xlabel('Predicted label');\n",
    "plt.title('Confusion Matrix for GaussianNB', size = 10);\n",
    "\n",
    "\n",
    "              \n"
   ]
  },
  {
   "cell_type": "code",
   "execution_count": 83,
   "metadata": {},
   "outputs": [
    {
     "name": "stdout",
     "output_type": "stream",
     "text": [
      "              precision    recall  f1-score   support\n",
      "\n",
      "       false       0.63      0.41      0.49       249\n",
      "        true       0.50      0.71      0.59       207\n",
      "\n",
      "    accuracy                           0.55       456\n",
      "   macro avg       0.57      0.56      0.54       456\n",
      "weighted avg       0.57      0.55      0.54       456\n",
      "\n"
     ]
    }
   ],
   "source": [
    "reportGB = classification_report(full_test_data['test_label'], pred_GNB)\n",
    "print(reportGB)"
   ]
  },
  {
   "cell_type": "markdown",
   "metadata": {},
   "source": [
    "## Support Vector Machine "
   ]
  },
  {
   "cell_type": "code",
   "execution_count": 87,
   "metadata": {},
   "outputs": [
    {
     "name": "stdout",
     "output_type": "stream",
     "text": [
      "Confusion Matrix --- LinearSVC\n",
      "[[102 105]\n",
      " [100 149]]\n",
      "accuracy:   0.550\n"
     ]
    }
   ],
   "source": [
    "from sklearn.svm import LinearSVC\n",
    "svc_tfidf_clf = LinearSVC()\n",
    "\n",
    "svc_tfidf_clf.fit(train_vector, full_train_data['train_label'])\n",
    "\n",
    "\n",
    "svc_pred = svc_tfidf_clf.predict(test_vector)\n",
    "\n",
    "\n",
    "svc_score = metrics.accuracy_score(full_test_data['test_label'], svc_pred)\n",
    "\n",
    "\n",
    "svc_cm = metrics.confusion_matrix(full_test_data['test_label'], svc_pred, labels=['true', 'false'])\n",
    "print('Confusion Matrix --- LinearSVC')\n",
    "print(svc_cm)\n",
    "print(\"accuracy:   %0.3f\" % svc_score)"
   ]
  },
  {
   "cell_type": "markdown",
   "metadata": {},
   "source": [
    "# Logistic Regression"
   ]
  },
  {
   "cell_type": "code",
   "execution_count": 90,
   "metadata": {},
   "outputs": [
    {
     "name": "stdout",
     "output_type": "stream",
     "text": [
      "Confusion Matrix --- Logistic Regression\n",
      "[[105 102]\n",
      " [ 89 160]]\n",
      "accuracy:   0.581\n"
     ]
    }
   ],
   "source": [
    "from sklearn.linear_model import LogisticRegression\n",
    "\n",
    "logreg = LogisticRegression()\n",
    "logreg.fit(train_vector, full_train_data['train_label'])\n",
    "y_pred = logreg.predict(test_vector)\n",
    "\n",
    "log_score = metrics.accuracy_score(full_test_data['test_label'], y_pred)\n",
    "\n",
    "\n",
    "log_cm = metrics.confusion_matrix(full_test_data['test_label'], y_pred, labels=['true', 'false'])\n",
    "print('Confusion Matrix --- Logistic Regression')\n",
    "print(log_cm)\n",
    "print(\"accuracy:   %0.3f\" % log_score)\n",
    "\n"
   ]
  },
  {
   "cell_type": "markdown",
   "metadata": {},
   "source": [
    "## Conclusion \n",
    "\n",
    "- The MultinomialNB applied to CountVectorizer outperforms the the other models. It achieved an accuracy of __61.18%__!\n",
    "- Using GaussianNb on tfidfVectorizer performed better than countVectorizer and attained an accuracy of __55%__ (approx)\n",
    "- Using Linear Classification Models - SVM and Logistic Regression, we observe that Logistic Regression gave an accuracy of __58%__"
   ]
  },
  {
   "cell_type": "markdown",
   "metadata": {},
   "source": [
    "### Future Work \n",
    "\n",
    "* Apply Text Preprocessing to the above dataset and see how accuracy changes. \n",
    "* Later, try to convert it into a detection model using LSTM"
   ]
  },
  {
   "cell_type": "code",
   "execution_count": null,
   "metadata": {},
   "outputs": [],
   "source": []
  }
 ],
 "metadata": {
  "kernelspec": {
   "display_name": "Python 3",
   "language": "python",
   "name": "python3"
  },
  "language_info": {
   "codemirror_mode": {
    "name": "ipython",
    "version": 3
   },
   "file_extension": ".py",
   "mimetype": "text/x-python",
   "name": "python",
   "nbconvert_exporter": "python",
   "pygments_lexer": "ipython3",
   "version": "3.7.9"
  }
 },
 "nbformat": 4,
 "nbformat_minor": 4
}
